{
 "cells": [
  {
   "cell_type": "markdown",
   "id": "2c469550-0b2d-46e9-9f54-a427fdd0ad85",
   "metadata": {},
   "source": [
    "# Navigation: The Banana Project\n",
    "---\n",
    "This project trains three different Deep Q-Network (DQN) based agents, each of which implements a different learning strategy, and compares their training performance.  The learning strategies implemented in this project are:\n",
    "1. Fixed Q-Targets\n",
    "2. Experience Replay\n",
    "3. Double Q-Learning\n",
    "4. Prioritized Experience Replay\n",
    "\n",
    "Code for each agent is in the `pi_navigation/agent` directory, and the file nomenclature used to identify each implementation uses the item number of the learning strategy list above\n",
    "\n",
    "- **dqn_agent_1_2**: Implements Fixed Q-Targets and Experience Replay\n",
    "- **dqn_agent_1_2_3**: Implements Fixed Q-Targets, Experience Replay, and Double Q-Learning\n",
    "- **dqn_agent_1_3_4**: Implements Fixed Q-Targets, Prioritized Experience Replay, and Double Q-learning\n",
    "\n",
    "## Table of Contents\n",
    "- Initialize notebook setings\n",
    "- Training Process\n",
    "  - Training one agent\n",
    "  - Training all agents\n",
    "- All agents training performance analysis\n",
    "- Let the Agent navigate"
   ]
  },
  {
   "cell_type": "markdown",
   "id": "a7893229-fbb1-4fac-be9c-b73fb4897a62",
   "metadata": {},
   "source": [
    "## Initialize notbook setings"
   ]
  },
  {
   "cell_type": "code",
   "execution_count": 1,
   "id": "1bbe7ab1-c63f-4f9d-8a69-4754434353e8",
   "metadata": {},
   "outputs": [],
   "source": [
    "# will automatically reload imported packages\n",
    "%load_ext autoreload\n",
    "%autoreload 2"
   ]
  },
  {
   "cell_type": "code",
   "execution_count": 2,
   "id": "9eb80c38-3d12-471b-98cc-14c88ba0b8d1",
   "metadata": {},
   "outputs": [],
   "source": [
    "import os\n",
    "import numpy as np\n",
    "import pandas as pd\n",
    "from datetime import datetime as dt\n",
    "from collections import namedtuple\n",
    "\n",
    "from agent import training"
   ]
  },
  {
   "cell_type": "code",
   "execution_count": 3,
   "id": "5def2901-4090-4c68-bf77-3fb3bc4e634b",
   "metadata": {},
   "outputs": [],
   "source": [
    "import matplotlib.pyplot as plt\n",
    "%matplotlib inline"
   ]
  },
  {
   "cell_type": "code",
   "execution_count": 4,
   "id": "cee0001e-7449-49dd-836d-e6541dc456b6",
   "metadata": {},
   "outputs": [],
   "source": [
    "import torch"
   ]
  },
  {
   "cell_type": "code",
   "execution_count": 5,
   "id": "0b4a4eb8-fe7f-4a1e-bfbc-bbf02bf408ce",
   "metadata": {},
   "outputs": [
    {
     "data": {
      "text/plain": [
       "True"
      ]
     },
     "execution_count": 5,
     "metadata": {},
     "output_type": "execute_result"
    }
   ],
   "source": [
    "torch.cuda.is_available()"
   ]
  },
  {
   "cell_type": "code",
   "execution_count": 6,
   "id": "87628417-cf21-43d2-bef6-e3f12e5da783",
   "metadata": {},
   "outputs": [],
   "source": [
    "output_model_directory = os.path.abspath(\"agent_model/\")\n",
    "output_training_data = os.path.abspath(\"training_data/\")"
   ]
  },
  {
   "cell_type": "markdown",
   "id": "3a4c7e22-f92a-4bf5-afb7-22def764487d",
   "metadata": {},
   "source": [
    "## Training Process"
   ]
  },
  {
   "cell_type": "code",
   "execution_count": 7,
   "id": "107f6c75-4f8e-4210-bb94-341c8e187163",
   "metadata": {},
   "outputs": [],
   "source": [
    "agent_info = namedtuple(\"Agent_info\", field_names = ['agent_name', 'agent_implementation', \n",
    "                                                       'priority_replay', 'exp_replay_alpha'])"
   ]
  },
  {
   "cell_type": "code",
   "execution_count": 8,
   "id": "0baa9a6e-0f84-4bd1-bf73-b88ac8580b6c",
   "metadata": {},
   "outputs": [],
   "source": [
    "def run(agents, n_sessions, target_score):\n",
    "  \"\"\"\n",
    "  Orchestrates training process for all Agents\n",
    "  \n",
    "  Trains each agent in agents for session, and records the best traning session\n",
    "  for the agent\n",
    "  \n",
    "  I also keeps a log of the training data for each agent's session\n",
    "  and persists it to local storage at the end of the run\n",
    "  \n",
    "  Args:\n",
    "  - agents (iterable of Agent_info): the agents to train with respective info\n",
    "  \n",
    "  - n_sessions (int): the number of sessions to train each agent for\n",
    "  \n",
    "  - target_score (float): the target score a training session should achieve.  \n",
    "    The Train function will halt learning as soon as target_score is reached\n",
    "  \"\"\"\n",
    "  \n",
    "  best_agent = dict()\n",
    "  training_log = dict()\n",
    "  \n",
    "  for a_info in agents:\n",
    "    \n",
    "    cols = ['agent', 'session', 'episode', 'score', 'epsilon', 'beta']\n",
    "    training_log[a_info.agent_name] = pd.DataFrame(columns = cols)\n",
    "    \n",
    "    # initialize best session to loose in comparison with first real outcome\n",
    "    best_agent[a_info.agent_name] = {\"score\": -np.inf, 'episode': 3000, 'session': -1}\n",
    "    \n",
    "    for session in range(n_sessions):\n",
    "      trainer = training.Train_Agent(agent_implementation = a_info.agent_implementation)\n",
    "      \n",
    "      # train\n",
    "      print(\"{} - Training {} session {}\".format(dt.now().strftime('%Y-%m-%d %H:%M:%S'), \n",
    "                                                 a_info.agent_name, session))\n",
    "      agent, data = trainer.Train(target_score = target_score, \n",
    "                                  priority_replay = a_info.priority_replay, \n",
    "                                  **{'exp_replay_alpha': a_info.exp_replay_alpha}\n",
    "                                 )\n",
    "      \n",
    "      #process session\n",
    "      data['agent'] = a_info.agent_name\n",
    "      data['session'] = session\n",
    "      \n",
    "      print(\"Logging {} training data rows\".format(data.shape[0]))\n",
    "      # return data\n",
    "      \n",
    "      training_log[a_info.agent_name] = pd.concat([training_log[a_info.agent_name], data[cols]], \n",
    "                                                  axis = 0, ignore_index=True)\n",
    "      print(\"Log: {}\".format(training_log[a_info.agent_name].shape))\n",
    "      \n",
    "      # keep track of best training session\n",
    "      # Better model is defined as:\n",
    "      # The set of weights of the episode that reached the best score (score.max()) \n",
    "      # from the set of averaged episodes that reached the target_score\n",
    "      episode_set = data[-100:]\n",
    "      if (episode_set['score'].max() > best_agent[a_info.agent_name]['score']):\n",
    "        best_info = episode_set[episode_set['score'] == episode_set['score'].max()][['score', \n",
    "                                                                                     'episode']]\n",
    "        best_agent[a_info.agent_name]['score'] = best_info['score'].values[0]\n",
    "        best_agent[a_info.agent_name]['episode'] = best_info['episode'].values[0]\n",
    "        best_agent[a_info.agent_name]['session'] = session\n",
    "        \n",
    "        # persist the best model weights\n",
    "        torch.save(agent.dqn_local.state_dict(), 'agent_model/{}.pth'.format(a_info.agent_name))\n",
    "        \n",
    "        print(\"recorded better model for {}, score: {}, episode: {}, session: {}\"\n",
    "              .format(a_info.agent_name, best_agent[a_info.agent_name]['score'], \n",
    "                      best_agent[a_info.agent_name]['episode'], session))\n",
    "        \n",
    "  return training_log, best_agent\n",
    "      "
   ]
  },
  {
   "cell_type": "markdown",
   "id": "14f805a7-131c-411b-8787-f46a01ffb48c",
   "metadata": {},
   "source": [
    "### Training one agent"
   ]
  },
  {
   "cell_type": "code",
   "execution_count": 9,
   "id": "7d80ded6-4538-4d29-97c8-333078fd3582",
   "metadata": {},
   "outputs": [],
   "source": [
    "# training context\n",
    "\n",
    "target_score = 13.0\n",
    "n_sessions = 1\n",
    "agents = [\n",
    "  agent_info('dqn_agent_1_2', 'dqn_agent_1_2', False, 0), \n",
    "]"
   ]
  },
  {
   "cell_type": "code",
   "execution_count": 10,
   "id": "5eea1de1-52b8-42c5-9d99-9f36daacacfc",
   "metadata": {
    "tags": []
   },
   "outputs": [
    {
     "name": "stdout",
     "output_type": "stream",
     "text": [
      "2023-03-08 07:26:13 - Training dqn_agent_1_2 session 0\n"
     ]
    },
    {
     "name": "stderr",
     "output_type": "stream",
     "text": [
      "INFO:unityagents:\n",
      "'Academy' started successfully!\n",
      "Unity Academy name: Academy\n",
      "        Number of Brains: 1\n",
      "        Number of External Brains : 1\n",
      "        Lesson number : 0\n",
      "        Reset Parameters :\n",
      "\t\t\n",
      "Unity brain name: BananaBrain\n",
      "        Number of Visual Observations (per agent): 0\n",
      "        Vector Observation space type: continuous\n",
      "        Vector Observation space size (per agent): 37\n",
      "        Number of stacked Vector Observation: 1\n",
      "        Vector Action space type: discrete\n",
      "        Vector Action space size (per agent): 4\n",
      "        Vector Action descriptions: , , , \n"
     ]
    },
    {
     "name": "stdout",
     "output_type": "stream",
     "text": [
      "2023-03-08 07:29:04 - Episode: 100\tAverage Score: 0.84\teps: 0.6088\tbeta: 0.000000\n",
      "2023-03-08 07:31:48 - Episode: 200\tAverage Score: 5.01\teps: 0.3688\tbeta: 0.000000\n",
      "2023-03-08 07:34:39 - Episode: 300\tAverage Score: 7.36\teps: 0.2234\tbeta: 0.000000\n",
      "2023-03-08 07:37:26 - Episode: 400\tAverage Score: 9.37\teps: 0.1353\tbeta: 0.000000\n",
      "2023-03-08 07:40:14 - Episode: 500\tAverage Score: 11.58\teps: 0.0820\tbeta: 0.000000\n",
      "Episode: 582\tAverage Score: 13.00\teps: 0.0544\tbeta: 0.000000\n",
      "2023-03-08 07:42:31 - Environment solved in:\n",
      "Episode: 582\tAverage Score: 13.00\teps: 0.0544\tbeta: 0.000000\n",
      "Logging 582 training data rows\n",
      "Log: (582, 6)\n",
      "recorded better model for dqn_agent_1_2, score: 23.0, episode: 531, session: 0\n"
     ]
    }
   ],
   "source": [
    "training_log, best_agent = run(agents, n_sessions, target_score)"
   ]
  },
  {
   "cell_type": "code",
   "execution_count": 11,
   "id": "a821c520-bf49-4d92-b029-c98c81f84e26",
   "metadata": {},
   "outputs": [
    {
     "data": {
      "text/plain": [
       "(582, 6)"
      ]
     },
     "execution_count": 11,
     "metadata": {},
     "output_type": "execute_result"
    }
   ],
   "source": [
    "agent = list(training_log.keys())[0]\n",
    "data = training_log[agent]\n",
    "data.shape"
   ]
  },
  {
   "cell_type": "markdown",
   "id": "457ace17-b474-409e-b872-c2600b8f07bd",
   "metadata": {},
   "source": [
    "Visualize the learning data"
   ]
  },
  {
   "cell_type": "code",
   "execution_count": 12,
   "id": "746e7822-68d2-476d-b395-0244a3a30beb",
   "metadata": {},
   "outputs": [
    {
     "data": {
      "image/png": "[encoded data removed]",
      "text/plain": [
       "<Figure size 1080x504 with 1 Axes>"
      ]
     },
     "metadata": {
      "needs_background": "light"
     },
     "output_type": "display_data"
    }
   ],
   "source": [
    "# plot the learning data\n",
    "fig = plt.figure(figsize=(15, 7))\n",
    "ax = fig.add_subplot()\n",
    "\n",
    "ax.plot(data['episode'], data['score'], color = 'LightGray', \n",
    "        label = 'episode score'\n",
    "       )\n",
    "ax.plot(data['episode'], data['score'].rolling(window = 100).mean(), color = 'DarkOrange', \n",
    "        label = \"100 consecutive episodes mean score\"\n",
    "       )\n",
    "\n",
    "ax.hlines(y = target_score, xmin = 0, xmax = data['episode'].max(), color = 'Gray', \n",
    "          linewidths = 0.5\n",
    "         )\n",
    "ax.vlines(x = best_agent[agent]['episode'], \n",
    "          ymin = 0, ymax = best_agent[agent]['score'], color = 'CadetBlue', \n",
    "          # linewidths = 0.5\n",
    "         )\n",
    "\n",
    "txt = \"{:.2f}\\nbest score\".format(best_agent[agent]['score'])\n",
    "ax.text(x = best_agent[agent]['episode'] + 1, y = 0, s = txt, color = 'Gray')\n",
    "ax.scatter(x = best_agent[agent]['episode'], y = best_agent[agent]['score'], color = 'DarkOrange')\n",
    "\n",
    "ax.set_ylabel('Score')\n",
    "ax.set_xlabel('Episode #')\n",
    "ax.legend()\n",
    "\n",
    "ax.set_title(\"{} Agent Learning Performance:\\nEpisode vs. Score\\n\".format(agent))\n",
    "plt.show()"
   ]
  },
  {
   "cell_type": "code",
   "execution_count": null,
   "id": "43c9f370-9fdc-4ee3-940f-1ef0164402ea",
   "metadata": {},
   "outputs": [],
   "source": []
  },
  {
   "cell_type": "markdown",
   "id": "3dec8480-a53f-4b5a-84c1-01b677008109",
   "metadata": {},
   "source": [
    "### Training all agents\n",
    "> If the torch devide is `cpu` This will take a loooong time"
   ]
  },
  {
   "cell_type": "code",
   "execution_count": 13,
   "id": "e7ffb879-eb54-4adb-b6c0-9caf6a4c6f09",
   "metadata": {},
   "outputs": [],
   "source": [
    "# training context\n",
    "target_score = 13.0\n",
    "n_sessions = 5\n",
    "agents = [\n",
    "  agent_info('dqn_agent_1_2', 'dqn_agent_1_2', False, 0), \n",
    "  agent_info('dqn_agent_1_2_3', 'dqn_agent_1_2_3', False, 0), \n",
    "  agent_info('dqn_agent_1_3_4_005', 'dqn_agent_1_3_4', True, 0.05), \n",
    "  agent_info('dqn_agent_1_3_4_01', 'dqn_agent_1_3_4', True, 0.1), \n",
    "  agent_info('dqn_agent_1_3_4_02', 'dqn_agent_1_3_4', True, 0.2), \n",
    "]"
   ]
  },
  {
   "cell_type": "code",
   "execution_count": 14,
   "id": "00b74f77-c4b0-4822-b23e-c64a4f381f48",
   "metadata": {
    "scrolled": true,
    "tags": []
   },
   "outputs": [
    {
     "name": "stdout",
     "output_type": "stream",
     "text": [
      "2023-03-08 07:42:32 - Training dqn_agent_1_2 session 0\n"
     ]
    },
    {
     "name": "stderr",
     "output_type": "stream",
     "text": [
      "INFO:unityagents:\n",
      "'Academy' started successfully!\n",
      "Unity Academy name: Academy\n",
      "        Number of Brains: 1\n",
      "        Number of External Brains : 1\n",
      "        Lesson number : 0\n",
      "        Reset Parameters :\n",
      "\t\t\n",
      "Unity brain name: BananaBrain\n",
      "        Number of Visual Observations (per agent): 0\n",
      "        Vector Observation space type: continuous\n",
      "        Vector Observation space size (per agent): 37\n",
      "        Number of stacked Vector Observation: 1\n",
      "        Vector Action space type: discrete\n",
      "        Vector Action space size (per agent): 4\n",
      "        Vector Action descriptions: , , , \n"
     ]
    },
    {
     "name": "stdout",
     "output_type": "stream",
     "text": [
      "2023-03-08 07:45:21 - Episode: 100\tAverage Score: 1.03\teps: 0.6088\tbeta: 0.000000\n",
      "2023-03-08 07:48:05 - Episode: 200\tAverage Score: 4.35\teps: 0.3688\tbeta: 0.000000\n",
      "2023-03-08 07:50:51 - Episode: 300\tAverage Score: 7.45\teps: 0.2234\tbeta: 0.000000\n",
      "2023-03-08 07:53:37 - Episode: 400\tAverage Score: 9.72\teps: 0.1353\tbeta: 0.000000\n",
      "2023-03-08 07:56:24 - Episode: 500\tAverage Score: 11.35\teps: 0.0820\tbeta: 0.000000\n",
      "2023-03-08 07:59:11 - Episode: 600\tAverage Score: 12.97\teps: 0.0497\tbeta: 0.000000\n",
      "Episode: 655\tAverage Score: 13.01\teps: 0.0377\tbeta: 0.000000\n",
      "2023-03-08 08:00:43 - Environment solved in:\n",
      "Episode: 655\tAverage Score: 13.01\teps: 0.0377\tbeta: 0.000000\n",
      "Logging 655 training data rows\n",
      "Log: (655, 6)\n",
      "recorded better model for dqn_agent_1_2, score: 20.0, episode: 589, session: 0\n",
      "2023-03-08 08:00:43 - Training dqn_agent_1_2 session 1\n"
     ]
    },
    {
     "name": "stderr",
     "output_type": "stream",
     "text": [
      "INFO:unityagents:\n",
      "'Academy' started successfully!\n",
      "Unity Academy name: Academy\n",
      "        Number of Brains: 1\n",
      "        Number of External Brains : 1\n",
      "        Lesson number : 0\n",
      "        Reset Parameters :\n",
      "\t\t\n",
      "Unity brain name: BananaBrain\n",
      "        Number of Visual Observations (per agent): 0\n",
      "        Vector Observation space type: continuous\n",
      "        Vector Observation space size (per agent): 37\n",
      "        Number of stacked Vector Observation: 1\n",
      "        Vector Action space type: discrete\n",
      "        Vector Action space size (per agent): 4\n",
      "        Vector Action descriptions: , , , \n"
     ]
    },
    {
     "name": "stdout",
     "output_type": "stream",
     "text": [
      "2023-03-08 08:03:35 - Episode: 100\tAverage Score: 0.36\teps: 0.6088\tbeta: 0.000000\n",
      "2023-03-08 08:06:20 - Episode: 200\tAverage Score: 2.96\teps: 0.3688\tbeta: 0.000000\n",
      "2023-03-08 08:09:06 - Episode: 300\tAverage Score: 6.73\teps: 0.2234\tbeta: 0.000000\n",
      "2023-03-08 08:11:54 - Episode: 400\tAverage Score: 10.10\teps: 0.1353\tbeta: 0.000000\n",
      "2023-03-08 08:14:48 - Episode: 500\tAverage Score: 12.64\teps: 0.0820\tbeta: 0.000000\n",
      "Episode: 538\tAverage Score: 13.04\teps: 0.0678\tbeta: 0.000000\n",
      "2023-03-08 08:15:51 - Environment solved in:\n",
      "Episode: 538\tAverage Score: 13.04\teps: 0.0678\tbeta: 0.000000\n",
      "Logging 538 training data rows\n",
      "Log: (1193, 6)\n",
      "recorded better model for dqn_agent_1_2, score: 22.0, episode: 470, session: 1\n",
      "2023-03-08 08:15:51 - Training dqn_agent_1_2 session 2\n"
     ]
    },
    {
     "name": "stderr",
     "output_type": "stream",
     "text": [
      "INFO:unityagents:\n",
      "'Academy' started successfully!\n",
      "Unity Academy name: Academy\n",
      "        Number of Brains: 1\n",
      "        Number of External Brains : 1\n",
      "        Lesson number : 0\n",
      "        Reset Parameters :\n",
      "\t\t\n",
      "Unity brain name: BananaBrain\n",
      "        Number of Visual Observations (per agent): 0\n",
      "        Vector Observation space type: continuous\n",
      "        Vector Observation space size (per agent): 37\n",
      "        Number of stacked Vector Observation: 1\n",
      "        Vector Action space type: discrete\n",
      "        Vector Action space size (per agent): 4\n",
      "        Vector Action descriptions: , , , \n"
     ]
    },
    {
     "name": "stdout",
     "output_type": "stream",
     "text": [
      "2023-03-08 08:18:43 - Episode: 100\tAverage Score: 0.19\teps: 0.6088\tbeta: 0.000000\n",
      "2023-03-08 08:21:28 - Episode: 200\tAverage Score: 2.99\teps: 0.3688\tbeta: 0.000000\n",
      "2023-03-08 08:24:15 - Episode: 300\tAverage Score: 6.60\teps: 0.2234\tbeta: 0.000000\n",
      "2023-03-08 08:27:04 - Episode: 400\tAverage Score: 9.56\teps: 0.1353\tbeta: 0.000000\n",
      "Episode: 496\tAverage Score: 13.08\teps: 0.0836\tbeta: 0.000000\n",
      "2023-03-08 08:29:46 - Environment solved in:\n",
      "Episode: 496\tAverage Score: 13.08\teps: 0.0836\tbeta: 0.000000\n",
      "Logging 496 training data rows\n",
      "Log: (1689, 6)\n",
      "2023-03-08 08:29:46 - Training dqn_agent_1_2 session 3\n"
     ]
    },
    {
     "name": "stderr",
     "output_type": "stream",
     "text": [
      "INFO:unityagents:\n",
      "'Academy' started successfully!\n",
      "Unity Academy name: Academy\n",
      "        Number of Brains: 1\n",
      "        Number of External Brains : 1\n",
      "        Lesson number : 0\n",
      "        Reset Parameters :\n",
      "\t\t\n",
      "Unity brain name: BananaBrain\n",
      "        Number of Visual Observations (per agent): 0\n",
      "        Vector Observation space type: continuous\n",
      "        Vector Observation space size (per agent): 37\n",
      "        Number of stacked Vector Observation: 1\n",
      "        Vector Action space type: discrete\n",
      "        Vector Action space size (per agent): 4\n",
      "        Vector Action descriptions: , , , \n"
     ]
    },
    {
     "name": "stdout",
     "output_type": "stream",
     "text": [
      "2023-03-08 08:32:35 - Episode: 100\tAverage Score: 0.65\teps: 0.6088\tbeta: 0.000000\n",
      "2023-03-08 08:35:20 - Episode: 200\tAverage Score: 3.79\teps: 0.3688\tbeta: 0.000000\n",
      "2023-03-08 08:38:07 - Episode: 300\tAverage Score: 7.39\teps: 0.2234\tbeta: 0.000000\n",
      "2023-03-08 08:40:55 - Episode: 400\tAverage Score: 11.06\teps: 0.1353\tbeta: 0.000000\n",
      "2023-03-08 08:43:43 - Episode: 500\tAverage Score: 12.01\teps: 0.0820\tbeta: 0.000000\n",
      "Episode: 519\tAverage Score: 13.03\teps: 0.0745\tbeta: 0.000000\n",
      "2023-03-08 08:44:15 - Environment solved in:\n",
      "Episode: 519\tAverage Score: 13.03\teps: 0.0745\tbeta: 0.000000\n",
      "Logging 519 training data rows\n",
      "Log: (2208, 6)\n",
      "recorded better model for dqn_agent_1_2, score: 23.0, episode: 503, session: 3\n",
      "2023-03-08 08:44:15 - Training dqn_agent_1_2 session 4\n"
     ]
    },
    {
     "name": "stderr",
     "output_type": "stream",
     "text": [
      "INFO:unityagents:\n",
      "'Academy' started successfully!\n",
      "Unity Academy name: Academy\n",
      "        Number of Brains: 1\n",
      "        Number of External Brains : 1\n",
      "        Lesson number : 0\n",
      "        Reset Parameters :\n",
      "\t\t\n",
      "Unity brain name: BananaBrain\n",
      "        Number of Visual Observations (per agent): 0\n",
      "        Vector Observation space type: continuous\n",
      "        Vector Observation space size (per agent): 37\n",
      "        Number of stacked Vector Observation: 1\n",
      "        Vector Action space type: discrete\n",
      "        Vector Action space size (per agent): 4\n",
      "        Vector Action descriptions: , , , \n"
     ]
    },
    {
     "name": "stdout",
     "output_type": "stream",
     "text": [
      "2023-03-08 08:47:04 - Episode: 100\tAverage Score: 1.04\teps: 0.6088\tbeta: 0.000000\n",
      "2023-03-08 08:49:51 - Episode: 200\tAverage Score: 4.06\teps: 0.3688\tbeta: 0.000000\n",
      "2023-03-08 08:52:37 - Episode: 300\tAverage Score: 7.81\teps: 0.2234\tbeta: 0.000000\n",
      "2023-03-08 08:55:26 - Episode: 400\tAverage Score: 9.83\teps: 0.1353\tbeta: 0.000000\n",
      "2023-03-08 08:58:14 - Episode: 500\tAverage Score: 12.65\teps: 0.0820\tbeta: 0.000000\n",
      "Episode: 506\tAverage Score: 13.01\teps: 0.0796\tbeta: 0.000000\n",
      "2023-03-08 08:58:24 - Environment solved in:\n",
      "Episode: 506\tAverage Score: 13.01\teps: 0.0796\tbeta: 0.000000\n",
      "Logging 506 training data rows\n",
      "Log: (2714, 6)\n",
      "2023-03-08 08:58:24 - Training dqn_agent_1_2_3 session 0\n"
     ]
    },
    {
     "name": "stderr",
     "output_type": "stream",
     "text": [
      "INFO:unityagents:\n",
      "'Academy' started successfully!\n",
      "Unity Academy name: Academy\n",
      "        Number of Brains: 1\n",
      "        Number of External Brains : 1\n",
      "        Lesson number : 0\n",
      "        Reset Parameters :\n",
      "\t\t\n",
      "Unity brain name: BananaBrain\n",
      "        Number of Visual Observations (per agent): 0\n",
      "        Vector Observation space type: continuous\n",
      "        Vector Observation space size (per agent): 37\n",
      "        Number of stacked Vector Observation: 1\n",
      "        Vector Action space type: discrete\n",
      "        Vector Action space size (per agent): 4\n",
      "        Vector Action descriptions: , , , \n"
     ]
    },
    {
     "name": "stdout",
     "output_type": "stream",
     "text": [
      "2023-03-08 09:01:22 - Episode: 100\tAverage Score: 0.89\teps: 0.6088\tbeta: 0.000000\n",
      "2023-03-08 09:04:14 - Episode: 200\tAverage Score: 3.61\teps: 0.3688\tbeta: 0.000000\n",
      "2023-03-08 09:07:07 - Episode: 300\tAverage Score: 7.37\teps: 0.2234\tbeta: 0.000000\n",
      "2023-03-08 09:10:02 - Episode: 400\tAverage Score: 10.34\teps: 0.1353\tbeta: 0.000000\n",
      "2023-03-08 09:12:57 - Episode: 500\tAverage Score: 11.90\teps: 0.0820\tbeta: 0.000000\n",
      "Episode: 549\tAverage Score: 13.00\teps: 0.0641\tbeta: 0.000000\n",
      "2023-03-08 09:14:22 - Environment solved in:\n",
      "Episode: 549\tAverage Score: 13.00\teps: 0.0641\tbeta: 0.000000\n",
      "Logging 549 training data rows\n",
      "Log: (549, 6)\n",
      "recorded better model for dqn_agent_1_2_3, score: 21.0, episode: 505, session: 0\n",
      "2023-03-08 09:14:22 - Training dqn_agent_1_2_3 session 1\n"
     ]
    },
    {
     "name": "stderr",
     "output_type": "stream",
     "text": [
      "INFO:unityagents:\n",
      "'Academy' started successfully!\n",
      "Unity Academy name: Academy\n",
      "        Number of Brains: 1\n",
      "        Number of External Brains : 1\n",
      "        Lesson number : 0\n",
      "        Reset Parameters :\n",
      "\t\t\n",
      "Unity brain name: BananaBrain\n",
      "        Number of Visual Observations (per agent): 0\n",
      "        Vector Observation space type: continuous\n",
      "        Vector Observation space size (per agent): 37\n",
      "        Number of stacked Vector Observation: 1\n",
      "        Vector Action space type: discrete\n",
      "        Vector Action space size (per agent): 4\n",
      "        Vector Action descriptions: , , , \n"
     ]
    },
    {
     "name": "stdout",
     "output_type": "stream",
     "text": [
      "2023-03-08 09:17:19 - Episode: 100\tAverage Score: 0.49\teps: 0.6088\tbeta: 0.000000\n",
      "2023-03-08 09:20:11 - Episode: 200\tAverage Score: 3.70\teps: 0.3688\tbeta: 0.000000\n",
      "2023-03-08 09:23:04 - Episode: 300\tAverage Score: 6.88\teps: 0.2234\tbeta: 0.000000\n",
      "2023-03-08 09:26:00 - Episode: 400\tAverage Score: 9.48\teps: 0.1353\tbeta: 0.000000\n",
      "2023-03-08 09:28:55 - Episode: 500\tAverage Score: 13.04\teps: 0.0820\tbeta: 0.000000\n",
      "\n",
      "2023-03-08 09:28:55 - Environment solved in:\n",
      "Episode: 500\tAverage Score: 13.04\teps: 0.0820\tbeta: 0.000000\n",
      "Logging 500 training data rows\n",
      "Log: (1049, 6)\n",
      "2023-03-08 09:28:55 - Training dqn_agent_1_2_3 session 2\n"
     ]
    },
    {
     "name": "stderr",
     "output_type": "stream",
     "text": [
      "INFO:unityagents:\n",
      "'Academy' started successfully!\n",
      "Unity Academy name: Academy\n",
      "        Number of Brains: 1\n",
      "        Number of External Brains : 1\n",
      "        Lesson number : 0\n",
      "        Reset Parameters :\n",
      "\t\t\n",
      "Unity brain name: BananaBrain\n",
      "        Number of Visual Observations (per agent): 0\n",
      "        Vector Observation space type: continuous\n",
      "        Vector Observation space size (per agent): 37\n",
      "        Number of stacked Vector Observation: 1\n",
      "        Vector Action space type: discrete\n",
      "        Vector Action space size (per agent): 4\n",
      "        Vector Action descriptions: , , , \n"
     ]
    },
    {
     "name": "stdout",
     "output_type": "stream",
     "text": [
      "2023-03-08 09:31:52 - Episode: 100\tAverage Score: 0.44\teps: 0.6088\tbeta: 0.000000\n",
      "2023-03-08 09:34:44 - Episode: 200\tAverage Score: 3.54\teps: 0.3688\tbeta: 0.000000\n",
      "2023-03-08 09:37:38 - Episode: 300\tAverage Score: 7.05\teps: 0.2234\tbeta: 0.000000\n",
      "2023-03-08 09:40:33 - Episode: 400\tAverage Score: 10.82\teps: 0.1353\tbeta: 0.000000\n",
      "Episode: 482\tAverage Score: 13.00\teps: 0.0897\tbeta: 0.000000\n",
      "2023-03-08 09:42:57 - Environment solved in:\n",
      "Episode: 482\tAverage Score: 13.00\teps: 0.0897\tbeta: 0.000000\n",
      "Logging 482 training data rows\n",
      "Log: (1531, 6)\n",
      "2023-03-08 09:42:57 - Training dqn_agent_1_2_3 session 3\n"
     ]
    },
    {
     "name": "stderr",
     "output_type": "stream",
     "text": [
      "INFO:unityagents:\n",
      "'Academy' started successfully!\n",
      "Unity Academy name: Academy\n",
      "        Number of Brains: 1\n",
      "        Number of External Brains : 1\n",
      "        Lesson number : 0\n",
      "        Reset Parameters :\n",
      "\t\t\n",
      "Unity brain name: BananaBrain\n",
      "        Number of Visual Observations (per agent): 0\n",
      "        Vector Observation space type: continuous\n",
      "        Vector Observation space size (per agent): 37\n",
      "        Number of stacked Vector Observation: 1\n",
      "        Vector Action space type: discrete\n",
      "        Vector Action space size (per agent): 4\n",
      "        Vector Action descriptions: , , , \n"
     ]
    },
    {
     "name": "stdout",
     "output_type": "stream",
     "text": [
      "2023-03-08 09:45:53 - Episode: 100\tAverage Score: 0.48\teps: 0.6088\tbeta: 0.000000\n",
      "2023-03-08 09:48:46 - Episode: 200\tAverage Score: 4.04\teps: 0.3688\tbeta: 0.000000\n",
      "2023-03-08 09:51:40 - Episode: 300\tAverage Score: 7.31\teps: 0.2234\tbeta: 0.000000\n",
      "2023-03-08 09:54:36 - Episode: 400\tAverage Score: 11.04\teps: 0.1353\tbeta: 0.000000\n",
      "2023-03-08 09:57:32 - Episode: 500\tAverage Score: 12.40\teps: 0.0820\tbeta: 0.000000\n",
      "Episode: 563\tAverage Score: 13.00\teps: 0.0598\tbeta: 0.000000\n",
      "2023-03-08 09:59:22 - Environment solved in:\n",
      "Episode: 563\tAverage Score: 13.00\teps: 0.0598\tbeta: 0.000000\n",
      "Logging 563 training data rows\n",
      "Log: (2094, 6)\n",
      "2023-03-08 09:59:23 - Training dqn_agent_1_2_3 session 4\n"
     ]
    },
    {
     "name": "stderr",
     "output_type": "stream",
     "text": [
      "INFO:unityagents:\n",
      "'Academy' started successfully!\n",
      "Unity Academy name: Academy\n",
      "        Number of Brains: 1\n",
      "        Number of External Brains : 1\n",
      "        Lesson number : 0\n",
      "        Reset Parameters :\n",
      "\t\t\n",
      "Unity brain name: BananaBrain\n",
      "        Number of Visual Observations (per agent): 0\n",
      "        Vector Observation space type: continuous\n",
      "        Vector Observation space size (per agent): 37\n",
      "        Number of stacked Vector Observation: 1\n",
      "        Vector Action space type: discrete\n",
      "        Vector Action space size (per agent): 4\n",
      "        Vector Action descriptions: , , , \n"
     ]
    },
    {
     "name": "stdout",
     "output_type": "stream",
     "text": [
      "2023-03-08 10:02:19 - Episode: 100\tAverage Score: 0.68\teps: 0.6088\tbeta: 0.000000\n",
      "2023-03-08 10:05:13 - Episode: 200\tAverage Score: 3.36\teps: 0.3688\tbeta: 0.000000\n",
      "2023-03-08 10:08:07 - Episode: 300\tAverage Score: 7.05\teps: 0.2234\tbeta: 0.000000\n",
      "2023-03-08 10:11:02 - Episode: 400\tAverage Score: 9.42\teps: 0.1353\tbeta: 0.000000\n",
      "2023-03-08 10:14:04 - Episode: 500\tAverage Score: 12.26\teps: 0.0820\tbeta: 0.000000\n",
      "Episode: 555\tAverage Score: 13.01\teps: 0.0622\tbeta: 0.000000\n",
      "2023-03-08 10:15:40 - Environment solved in:\n",
      "Episode: 555\tAverage Score: 13.01\teps: 0.0622\tbeta: 0.000000\n",
      "Logging 555 training data rows\n",
      "Log: (2649, 6)\n",
      "2023-03-08 10:15:40 - Training dqn_agent_1_3_4_005 session 0\n"
     ]
    },
    {
     "name": "stderr",
     "output_type": "stream",
     "text": [
      "INFO:unityagents:\n",
      "'Academy' started successfully!\n",
      "Unity Academy name: Academy\n",
      "        Number of Brains: 1\n",
      "        Number of External Brains : 1\n",
      "        Lesson number : 0\n",
      "        Reset Parameters :\n",
      "\t\t\n",
      "Unity brain name: BananaBrain\n",
      "        Number of Visual Observations (per agent): 0\n",
      "        Vector Observation space type: continuous\n",
      "        Vector Observation space size (per agent): 37\n",
      "        Number of stacked Vector Observation: 1\n",
      "        Vector Action space type: discrete\n",
      "        Vector Action space size (per agent): 4\n",
      "        Vector Action descriptions: , , , \n"
     ]
    },
    {
     "name": "stdout",
     "output_type": "stream",
     "text": [
      "2023-03-08 10:18:56 - Episode: 100\tAverage Score: 0.22\teps: 0.6088\tbeta: 0.059400\n",
      "2023-03-08 10:22:29 - Episode: 200\tAverage Score: 3.17\teps: 0.3688\tbeta: 0.119400\n",
      "2023-03-08 10:26:23 - Episode: 300\tAverage Score: 7.39\teps: 0.2234\tbeta: 0.179400\n",
      "2023-03-08 10:30:35 - Episode: 400\tAverage Score: 10.39\teps: 0.1353\tbeta: 0.239400\n",
      "2023-03-08 10:34:48 - Episode: 500\tAverage Score: 12.43\teps: 0.0820\tbeta: 0.299400\n",
      "Episode: 537\tAverage Score: 13.01\teps: 0.0681\tbeta: 0.321600\n",
      "2023-03-08 10:36:22 - Environment solved in:\n",
      "Episode: 537\tAverage Score: 13.01\teps: 0.0681\tbeta: 0.321600\n",
      "Logging 537 training data rows\n",
      "Log: (537, 6)\n",
      "recorded better model for dqn_agent_1_3_4_005, score: 22.0, episode: 516, session: 0\n",
      "2023-03-08 10:36:22 - Training dqn_agent_1_3_4_005 session 1\n"
     ]
    },
    {
     "name": "stderr",
     "output_type": "stream",
     "text": [
      "INFO:unityagents:\n",
      "'Academy' started successfully!\n",
      "Unity Academy name: Academy\n",
      "        Number of Brains: 1\n",
      "        Number of External Brains : 1\n",
      "        Lesson number : 0\n",
      "        Reset Parameters :\n",
      "\t\t\n",
      "Unity brain name: BananaBrain\n",
      "        Number of Visual Observations (per agent): 0\n",
      "        Vector Observation space type: continuous\n",
      "        Vector Observation space size (per agent): 37\n",
      "        Number of stacked Vector Observation: 1\n",
      "        Vector Action space type: discrete\n",
      "        Vector Action space size (per agent): 4\n",
      "        Vector Action descriptions: , , , \n"
     ]
    },
    {
     "name": "stdout",
     "output_type": "stream",
     "text": [
      "2023-03-08 10:39:38 - Episode: 100\tAverage Score: 0.68\teps: 0.6088\tbeta: 0.059400\n",
      "2023-03-08 10:43:11 - Episode: 200\tAverage Score: 3.94\teps: 0.3688\tbeta: 0.119400\n",
      "2023-03-08 10:47:06 - Episode: 300\tAverage Score: 7.91\teps: 0.2234\tbeta: 0.179400\n",
      "2023-03-08 10:51:18 - Episode: 400\tAverage Score: 10.65\teps: 0.1353\tbeta: 0.239400\n",
      "2023-03-08 10:55:32 - Episode: 500\tAverage Score: 12.10\teps: 0.0820\tbeta: 0.299400\n",
      "Episode: 543\tAverage Score: 13.03\teps: 0.0661\tbeta: 0.325200\n",
      "2023-03-08 10:57:21 - Environment solved in:\n",
      "Episode: 543\tAverage Score: 13.03\teps: 0.0661\tbeta: 0.325200\n",
      "Logging 543 training data rows\n",
      "Log: (1080, 6)\n",
      "2023-03-08 10:57:21 - Training dqn_agent_1_3_4_005 session 2\n"
     ]
    },
    {
     "name": "stderr",
     "output_type": "stream",
     "text": [
      "INFO:unityagents:\n",
      "'Academy' started successfully!\n",
      "Unity Academy name: Academy\n",
      "        Number of Brains: 1\n",
      "        Number of External Brains : 1\n",
      "        Lesson number : 0\n",
      "        Reset Parameters :\n",
      "\t\t\n",
      "Unity brain name: BananaBrain\n",
      "        Number of Visual Observations (per agent): 0\n",
      "        Vector Observation space type: continuous\n",
      "        Vector Observation space size (per agent): 37\n",
      "        Number of stacked Vector Observation: 1\n",
      "        Vector Action space type: discrete\n",
      "        Vector Action space size (per agent): 4\n",
      "        Vector Action descriptions: , , , \n"
     ]
    },
    {
     "name": "stdout",
     "output_type": "stream",
     "text": [
      "2023-03-08 11:00:37 - Episode: 100\tAverage Score: 0.87\teps: 0.6088\tbeta: 0.059400\n",
      "2023-03-08 11:04:10 - Episode: 200\tAverage Score: 3.30\teps: 0.3688\tbeta: 0.119400\n",
      "2023-03-08 11:08:05 - Episode: 300\tAverage Score: 6.96\teps: 0.2234\tbeta: 0.179400\n",
      "2023-03-08 11:12:17 - Episode: 400\tAverage Score: 10.20\teps: 0.1353\tbeta: 0.239400\n",
      "2023-03-08 11:16:30 - Episode: 500\tAverage Score: 12.08\teps: 0.0820\tbeta: 0.299400\n",
      "Episode: 536\tAverage Score: 13.03\teps: 0.0684\tbeta: 0.321000\n",
      "2023-03-08 11:18:01 - Environment solved in:\n",
      "Episode: 536\tAverage Score: 13.03\teps: 0.0684\tbeta: 0.321000\n",
      "Logging 536 training data rows\n",
      "Log: (1616, 6)\n",
      "2023-03-08 11:18:01 - Training dqn_agent_1_3_4_005 session 3\n"
     ]
    },
    {
     "name": "stderr",
     "output_type": "stream",
     "text": [
      "INFO:unityagents:\n",
      "'Academy' started successfully!\n",
      "Unity Academy name: Academy\n",
      "        Number of Brains: 1\n",
      "        Number of External Brains : 1\n",
      "        Lesson number : 0\n",
      "        Reset Parameters :\n",
      "\t\t\n",
      "Unity brain name: BananaBrain\n",
      "        Number of Visual Observations (per agent): 0\n",
      "        Vector Observation space type: continuous\n",
      "        Vector Observation space size (per agent): 37\n",
      "        Number of stacked Vector Observation: 1\n",
      "        Vector Action space type: discrete\n",
      "        Vector Action space size (per agent): 4\n",
      "        Vector Action descriptions: , , , \n"
     ]
    },
    {
     "name": "stdout",
     "output_type": "stream",
     "text": [
      "2023-03-08 11:21:17 - Episode: 100\tAverage Score: 1.01\teps: 0.6088\tbeta: 0.059400\n",
      "2023-03-08 11:24:56 - Episode: 200\tAverage Score: 4.53\teps: 0.3688\tbeta: 0.119400\n",
      "2023-03-08 11:28:51 - Episode: 300\tAverage Score: 8.08\teps: 0.2234\tbeta: 0.179400\n",
      "2023-03-08 11:33:03 - Episode: 400\tAverage Score: 10.82\teps: 0.1353\tbeta: 0.239400\n",
      "Episode: 484\tAverage Score: 13.06\teps: 0.0888\tbeta: 0.289800\n",
      "2023-03-08 11:36:36 - Environment solved in:\n",
      "Episode: 484\tAverage Score: 13.06\teps: 0.0888\tbeta: 0.289800\n",
      "Logging 484 training data rows\n",
      "Log: (2100, 6)\n",
      "2023-03-08 11:36:36 - Training dqn_agent_1_3_4_005 session 4\n"
     ]
    },
    {
     "name": "stderr",
     "output_type": "stream",
     "text": [
      "INFO:unityagents:\n",
      "'Academy' started successfully!\n",
      "Unity Academy name: Academy\n",
      "        Number of Brains: 1\n",
      "        Number of External Brains : 1\n",
      "        Lesson number : 0\n",
      "        Reset Parameters :\n",
      "\t\t\n",
      "Unity brain name: BananaBrain\n",
      "        Number of Visual Observations (per agent): 0\n",
      "        Vector Observation space type: continuous\n",
      "        Vector Observation space size (per agent): 37\n",
      "        Number of stacked Vector Observation: 1\n",
      "        Vector Action space type: discrete\n",
      "        Vector Action space size (per agent): 4\n",
      "        Vector Action descriptions: , , , \n"
     ]
    },
    {
     "name": "stdout",
     "output_type": "stream",
     "text": [
      "2023-03-08 11:39:53 - Episode: 100\tAverage Score: 0.67\teps: 0.6088\tbeta: 0.059400\n",
      "2023-03-08 11:43:26 - Episode: 200\tAverage Score: 3.61\teps: 0.3688\tbeta: 0.119400\n",
      "2023-03-08 11:47:22 - Episode: 300\tAverage Score: 7.55\teps: 0.2234\tbeta: 0.179400\n",
      "2023-03-08 11:51:34 - Episode: 400\tAverage Score: 9.82\teps: 0.1353\tbeta: 0.239400\n",
      "2023-03-08 11:55:48 - Episode: 500\tAverage Score: 12.36\teps: 0.0820\tbeta: 0.299400\n",
      "Episode: 559\tAverage Score: 13.02\teps: 0.0610\tbeta: 0.334800\n",
      "2023-03-08 11:58:18 - Environment solved in:\n",
      "Episode: 559\tAverage Score: 13.02\teps: 0.0610\tbeta: 0.334800\n",
      "Logging 559 training data rows\n",
      "Log: (2659, 6)\n",
      "recorded better model for dqn_agent_1_3_4_005, score: 23.0, episode: 499, session: 4\n",
      "2023-03-08 11:58:18 - Training dqn_agent_1_3_4_01 session 0\n"
     ]
    },
    {
     "name": "stderr",
     "output_type": "stream",
     "text": [
      "INFO:unityagents:\n",
      "'Academy' started successfully!\n",
      "Unity Academy name: Academy\n",
      "        Number of Brains: 1\n",
      "        Number of External Brains : 1\n",
      "        Lesson number : 0\n",
      "        Reset Parameters :\n",
      "\t\t\n",
      "Unity brain name: BananaBrain\n",
      "        Number of Visual Observations (per agent): 0\n",
      "        Vector Observation space type: continuous\n",
      "        Vector Observation space size (per agent): 37\n",
      "        Number of stacked Vector Observation: 1\n",
      "        Vector Action space type: discrete\n",
      "        Vector Action space size (per agent): 4\n",
      "        Vector Action descriptions: , , , \n"
     ]
    },
    {
     "name": "stdout",
     "output_type": "stream",
     "text": [
      "2023-03-08 12:01:34 - Episode: 100\tAverage Score: 0.74\teps: 0.6088\tbeta: 0.059400\n",
      "2023-03-08 12:05:07 - Episode: 200\tAverage Score: 3.40\teps: 0.3688\tbeta: 0.119400\n",
      "2023-03-08 12:09:03 - Episode: 300\tAverage Score: 6.26\teps: 0.2234\tbeta: 0.179400\n",
      "2023-03-08 12:13:24 - Episode: 400\tAverage Score: 10.14\teps: 0.1353\tbeta: 0.239400\n",
      "2023-03-08 12:17:38 - Episode: 500\tAverage Score: 12.44\teps: 0.0820\tbeta: 0.299400\n",
      "Episode: 549\tAverage Score: 13.15\teps: 0.0641\tbeta: 0.328800\n",
      "2023-03-08 12:19:42 - Environment solved in:\n",
      "Episode: 549\tAverage Score: 13.15\teps: 0.0641\tbeta: 0.328800\n",
      "Logging 549 training data rows\n",
      "Log: (549, 6)\n",
      "recorded better model for dqn_agent_1_3_4_01, score: 21.0, episode: 520, session: 0\n",
      "2023-03-08 12:19:42 - Training dqn_agent_1_3_4_01 session 1\n"
     ]
    },
    {
     "name": "stderr",
     "output_type": "stream",
     "text": [
      "INFO:unityagents:\n",
      "'Academy' started successfully!\n",
      "Unity Academy name: Academy\n",
      "        Number of Brains: 1\n",
      "        Number of External Brains : 1\n",
      "        Lesson number : 0\n",
      "        Reset Parameters :\n",
      "\t\t\n",
      "Unity brain name: BananaBrain\n",
      "        Number of Visual Observations (per agent): 0\n",
      "        Vector Observation space type: continuous\n",
      "        Vector Observation space size (per agent): 37\n",
      "        Number of stacked Vector Observation: 1\n",
      "        Vector Action space type: discrete\n",
      "        Vector Action space size (per agent): 4\n",
      "        Vector Action descriptions: , , , \n"
     ]
    },
    {
     "name": "stdout",
     "output_type": "stream",
     "text": [
      "2023-03-08 12:23:00 - Episode: 100\tAverage Score: 0.65\teps: 0.6088\tbeta: 0.059400\n",
      "2023-03-08 12:26:35 - Episode: 200\tAverage Score: 4.00\teps: 0.3688\tbeta: 0.119400\n",
      "2023-03-08 12:30:31 - Episode: 300\tAverage Score: 7.35\teps: 0.2234\tbeta: 0.179400\n",
      "2023-03-08 12:34:43 - Episode: 400\tAverage Score: 10.23\teps: 0.1353\tbeta: 0.239400\n",
      "2023-03-08 12:38:57 - Episode: 500\tAverage Score: 11.30\teps: 0.0820\tbeta: 0.299400\n",
      "2023-03-08 12:43:11 - Episode: 600\tAverage Score: 12.90\teps: 0.0497\tbeta: 0.359400\n",
      "Episode: 601\tAverage Score: 13.01\teps: 0.0494\tbeta: 0.360000\n",
      "2023-03-08 12:43:13 - Environment solved in:\n",
      "Episode: 601\tAverage Score: 13.01\teps: 0.0494\tbeta: 0.360000\n",
      "Logging 601 training data rows\n",
      "Log: (1150, 6)\n",
      "2023-03-08 12:43:14 - Training dqn_agent_1_3_4_01 session 2\n"
     ]
    },
    {
     "name": "stderr",
     "output_type": "stream",
     "text": [
      "INFO:unityagents:\n",
      "'Academy' started successfully!\n",
      "Unity Academy name: Academy\n",
      "        Number of Brains: 1\n",
      "        Number of External Brains : 1\n",
      "        Lesson number : 0\n",
      "        Reset Parameters :\n",
      "\t\t\n",
      "Unity brain name: BananaBrain\n",
      "        Number of Visual Observations (per agent): 0\n",
      "        Vector Observation space type: continuous\n",
      "        Vector Observation space size (per agent): 37\n",
      "        Number of stacked Vector Observation: 1\n",
      "        Vector Action space type: discrete\n",
      "        Vector Action space size (per agent): 4\n",
      "        Vector Action descriptions: , , , \n"
     ]
    },
    {
     "name": "stdout",
     "output_type": "stream",
     "text": [
      "2023-03-08 12:46:32 - Episode: 100\tAverage Score: 0.31\teps: 0.6088\tbeta: 0.059400\n",
      "2023-03-08 12:50:05 - Episode: 200\tAverage Score: 3.71\teps: 0.3688\tbeta: 0.119400\n",
      "2023-03-08 12:54:00 - Episode: 300\tAverage Score: 6.33\teps: 0.2234\tbeta: 0.179400\n",
      "2023-03-08 12:58:13 - Episode: 400\tAverage Score: 9.76\teps: 0.1353\tbeta: 0.239400\n",
      "2023-03-08 13:02:26 - Episode: 500\tAverage Score: 12.54\teps: 0.0820\tbeta: 0.299400\n",
      "Episode: 518\tAverage Score: 13.06\teps: 0.0749\tbeta: 0.310200\n",
      "2023-03-08 13:03:12 - Environment solved in:\n",
      "Episode: 518\tAverage Score: 13.06\teps: 0.0749\tbeta: 0.310200\n",
      "Logging 518 training data rows\n",
      "Log: (1668, 6)\n",
      "recorded better model for dqn_agent_1_3_4_01, score: 23.0, episode: 423, session: 2\n",
      "2023-03-08 13:03:12 - Training dqn_agent_1_3_4_01 session 3\n"
     ]
    },
    {
     "name": "stderr",
     "output_type": "stream",
     "text": [
      "INFO:unityagents:\n",
      "'Academy' started successfully!\n",
      "Unity Academy name: Academy\n",
      "        Number of Brains: 1\n",
      "        Number of External Brains : 1\n",
      "        Lesson number : 0\n",
      "        Reset Parameters :\n",
      "\t\t\n",
      "Unity brain name: BananaBrain\n",
      "        Number of Visual Observations (per agent): 0\n",
      "        Vector Observation space type: continuous\n",
      "        Vector Observation space size (per agent): 37\n",
      "        Number of stacked Vector Observation: 1\n",
      "        Vector Action space type: discrete\n",
      "        Vector Action space size (per agent): 4\n",
      "        Vector Action descriptions: , , , \n"
     ]
    },
    {
     "name": "stdout",
     "output_type": "stream",
     "text": [
      "2023-03-08 13:06:31 - Episode: 100\tAverage Score: 0.57\teps: 0.6088\tbeta: 0.059400\n",
      "2023-03-08 13:10:04 - Episode: 200\tAverage Score: 2.77\teps: 0.3688\tbeta: 0.119400\n",
      "2023-03-08 13:14:00 - Episode: 300\tAverage Score: 6.71\teps: 0.2234\tbeta: 0.179400\n",
      "2023-03-08 13:18:12 - Episode: 400\tAverage Score: 9.82\teps: 0.1353\tbeta: 0.239400\n",
      "2023-03-08 13:22:26 - Episode: 500\tAverage Score: 12.79\teps: 0.0820\tbeta: 0.299400\n",
      "Episode: 508\tAverage Score: 13.03\teps: 0.0788\tbeta: 0.304200\n",
      "2023-03-08 13:22:46 - Environment solved in:\n",
      "Episode: 508\tAverage Score: 13.03\teps: 0.0788\tbeta: 0.304200\n",
      "Logging 508 training data rows\n",
      "Log: (2176, 6)\n",
      "2023-03-08 13:22:46 - Training dqn_agent_1_3_4_01 session 4\n"
     ]
    },
    {
     "name": "stderr",
     "output_type": "stream",
     "text": [
      "INFO:unityagents:\n",
      "'Academy' started successfully!\n",
      "Unity Academy name: Academy\n",
      "        Number of Brains: 1\n",
      "        Number of External Brains : 1\n",
      "        Lesson number : 0\n",
      "        Reset Parameters :\n",
      "\t\t\n",
      "Unity brain name: BananaBrain\n",
      "        Number of Visual Observations (per agent): 0\n",
      "        Vector Observation space type: continuous\n",
      "        Vector Observation space size (per agent): 37\n",
      "        Number of stacked Vector Observation: 1\n",
      "        Vector Action space type: discrete\n",
      "        Vector Action space size (per agent): 4\n",
      "        Vector Action descriptions: , , , \n"
     ]
    },
    {
     "name": "stdout",
     "output_type": "stream",
     "text": [
      "2023-03-08 13:26:03 - Episode: 100\tAverage Score: 0.60\teps: 0.6088\tbeta: 0.059400\n",
      "2023-03-08 13:29:36 - Episode: 200\tAverage Score: 2.79\teps: 0.3688\tbeta: 0.119400\n",
      "2023-03-08 13:33:32 - Episode: 300\tAverage Score: 6.36\teps: 0.2234\tbeta: 0.179400\n",
      "2023-03-08 13:37:44 - Episode: 400\tAverage Score: 9.88\teps: 0.1353\tbeta: 0.239400\n",
      "2023-03-08 13:41:58 - Episode: 500\tAverage Score: 12.54\teps: 0.0820\tbeta: 0.299400\n",
      "Episode: 515\tAverage Score: 13.02\teps: 0.0760\tbeta: 0.308400\n",
      "2023-03-08 13:42:36 - Environment solved in:\n",
      "Episode: 515\tAverage Score: 13.02\teps: 0.0760\tbeta: 0.308400\n",
      "Logging 515 training data rows\n",
      "Log: (2691, 6)\n",
      "2023-03-08 13:42:36 - Training dqn_agent_1_3_4_02 session 0\n"
     ]
    },
    {
     "name": "stderr",
     "output_type": "stream",
     "text": [
      "INFO:unityagents:\n",
      "'Academy' started successfully!\n",
      "Unity Academy name: Academy\n",
      "        Number of Brains: 1\n",
      "        Number of External Brains : 1\n",
      "        Lesson number : 0\n",
      "        Reset Parameters :\n",
      "\t\t\n",
      "Unity brain name: BananaBrain\n",
      "        Number of Visual Observations (per agent): 0\n",
      "        Vector Observation space type: continuous\n",
      "        Vector Observation space size (per agent): 37\n",
      "        Number of stacked Vector Observation: 1\n",
      "        Vector Action space type: discrete\n",
      "        Vector Action space size (per agent): 4\n",
      "        Vector Action descriptions: , , , \n"
     ]
    },
    {
     "name": "stdout",
     "output_type": "stream",
     "text": [
      "2023-03-08 13:45:52 - Episode: 100\tAverage Score: 0.65\teps: 0.6088\tbeta: 0.059400\n",
      "2023-03-08 13:49:25 - Episode: 200\tAverage Score: 2.53\teps: 0.3688\tbeta: 0.119400\n",
      "2023-03-08 13:53:21 - Episode: 300\tAverage Score: 6.37\teps: 0.2234\tbeta: 0.179400\n",
      "2023-03-08 13:57:33 - Episode: 400\tAverage Score: 9.37\teps: 0.1353\tbeta: 0.239400\n",
      "2023-03-08 14:01:47 - Episode: 500\tAverage Score: 12.15\teps: 0.0820\tbeta: 0.299400\n",
      "Episode: 566\tAverage Score: 13.05\teps: 0.0589\tbeta: 0.339000\n",
      "2023-03-08 14:04:34 - Environment solved in:\n",
      "Episode: 566\tAverage Score: 13.05\teps: 0.0589\tbeta: 0.339000\n",
      "Logging 566 training data rows\n",
      "Log: (566, 6)\n",
      "recorded better model for dqn_agent_1_3_4_02, score: 22.0, episode: 532, session: 0\n",
      "2023-03-08 14:04:34 - Training dqn_agent_1_3_4_02 session 1\n"
     ]
    },
    {
     "name": "stderr",
     "output_type": "stream",
     "text": [
      "INFO:unityagents:\n",
      "'Academy' started successfully!\n",
      "Unity Academy name: Academy\n",
      "        Number of Brains: 1\n",
      "        Number of External Brains : 1\n",
      "        Lesson number : 0\n",
      "        Reset Parameters :\n",
      "\t\t\n",
      "Unity brain name: BananaBrain\n",
      "        Number of Visual Observations (per agent): 0\n",
      "        Vector Observation space type: continuous\n",
      "        Vector Observation space size (per agent): 37\n",
      "        Number of stacked Vector Observation: 1\n",
      "        Vector Action space type: discrete\n",
      "        Vector Action space size (per agent): 4\n",
      "        Vector Action descriptions: , , , \n"
     ]
    },
    {
     "name": "stdout",
     "output_type": "stream",
     "text": [
      "2023-03-08 14:07:57 - Episode: 100\tAverage Score: 0.84\teps: 0.6088\tbeta: 0.059400\n",
      "2023-03-08 14:11:37 - Episode: 200\tAverage Score: 4.97\teps: 0.3688\tbeta: 0.119400\n",
      "2023-03-08 14:15:33 - Episode: 300\tAverage Score: 7.45\teps: 0.2234\tbeta: 0.179400\n",
      "2023-03-08 14:19:46 - Episode: 400\tAverage Score: 9.42\teps: 0.1353\tbeta: 0.239400\n",
      "2023-03-08 14:24:01 - Episode: 500\tAverage Score: 11.53\teps: 0.0820\tbeta: 0.299400\n",
      "2023-03-08 14:28:20 - Episode: 600\tAverage Score: 12.62\teps: 0.0497\tbeta: 0.359400\n",
      "Episode: 636\tAverage Score: 13.01\teps: 0.0415\tbeta: 0.381000\n",
      "2023-03-08 14:29:51 - Environment solved in:\n",
      "Episode: 636\tAverage Score: 13.01\teps: 0.0415\tbeta: 0.381000\n",
      "Logging 636 training data rows\n",
      "Log: (1202, 6)\n",
      "recorded better model for dqn_agent_1_3_4_02, score: 23.0, episode: 582, session: 1\n",
      "2023-03-08 14:29:51 - Training dqn_agent_1_3_4_02 session 2\n"
     ]
    },
    {
     "name": "stderr",
     "output_type": "stream",
     "text": [
      "INFO:unityagents:\n",
      "'Academy' started successfully!\n",
      "Unity Academy name: Academy\n",
      "        Number of Brains: 1\n",
      "        Number of External Brains : 1\n",
      "        Lesson number : 0\n",
      "        Reset Parameters :\n",
      "\t\t\n",
      "Unity brain name: BananaBrain\n",
      "        Number of Visual Observations (per agent): 0\n",
      "        Vector Observation space type: continuous\n",
      "        Vector Observation space size (per agent): 37\n",
      "        Number of stacked Vector Observation: 1\n",
      "        Vector Action space type: discrete\n",
      "        Vector Action space size (per agent): 4\n",
      "        Vector Action descriptions: , , , \n"
     ]
    },
    {
     "name": "stdout",
     "output_type": "stream",
     "text": [
      "2023-03-08 14:33:08 - Episode: 100\tAverage Score: 0.69\teps: 0.6088\tbeta: 0.059400\n",
      "2023-03-08 14:36:42 - Episode: 200\tAverage Score: 3.97\teps: 0.3688\tbeta: 0.119400\n",
      "2023-03-08 14:40:38 - Episode: 300\tAverage Score: 7.70\teps: 0.2234\tbeta: 0.179400\n",
      "2023-03-08 14:44:51 - Episode: 400\tAverage Score: 9.88\teps: 0.1353\tbeta: 0.239400\n",
      "2023-03-08 14:49:05 - Episode: 500\tAverage Score: 11.67\teps: 0.0820\tbeta: 0.299400\n",
      "2023-03-08 14:53:19 - Episode: 600\tAverage Score: 12.18\teps: 0.0497\tbeta: 0.359400\n",
      "Episode: 683\tAverage Score: 13.04\teps: 0.0328\tbeta: 0.409200\n",
      "2023-03-08 14:56:50 - Environment solved in:\n",
      "Episode: 683\tAverage Score: 13.04\teps: 0.0328\tbeta: 0.409200\n",
      "Logging 683 training data rows\n",
      "Log: (1885, 6)\n",
      "2023-03-08 14:56:50 - Training dqn_agent_1_3_4_02 session 3\n"
     ]
    },
    {
     "name": "stderr",
     "output_type": "stream",
     "text": [
      "INFO:unityagents:\n",
      "'Academy' started successfully!\n",
      "Unity Academy name: Academy\n",
      "        Number of Brains: 1\n",
      "        Number of External Brains : 1\n",
      "        Lesson number : 0\n",
      "        Reset Parameters :\n",
      "\t\t\n",
      "Unity brain name: BananaBrain\n",
      "        Number of Visual Observations (per agent): 0\n",
      "        Vector Observation space type: continuous\n",
      "        Vector Observation space size (per agent): 37\n",
      "        Number of stacked Vector Observation: 1\n",
      "        Vector Action space type: discrete\n",
      "        Vector Action space size (per agent): 4\n",
      "        Vector Action descriptions: , , , \n"
     ]
    },
    {
     "name": "stdout",
     "output_type": "stream",
     "text": [
      "2023-03-08 15:00:09 - Episode: 100\tAverage Score: 1.07\teps: 0.6088\tbeta: 0.059400\n",
      "2023-03-08 15:03:43 - Episode: 200\tAverage Score: 4.14\teps: 0.3688\tbeta: 0.119400\n",
      "2023-03-08 15:07:39 - Episode: 300\tAverage Score: 7.34\teps: 0.2234\tbeta: 0.179400\n",
      "2023-03-08 15:11:52 - Episode: 400\tAverage Score: 10.02\teps: 0.1353\tbeta: 0.239400\n",
      "2023-03-08 15:16:07 - Episode: 500\tAverage Score: 11.30\teps: 0.0820\tbeta: 0.299400\n",
      "2023-03-08 15:20:21 - Episode: 600\tAverage Score: 12.30\teps: 0.0497\tbeta: 0.359400\n",
      "Episode: 663\tAverage Score: 13.05\teps: 0.0362\tbeta: 0.397200\n",
      "2023-03-08 15:23:01 - Environment solved in:\n",
      "Episode: 663\tAverage Score: 13.05\teps: 0.0362\tbeta: 0.397200\n",
      "Logging 663 training data rows\n",
      "Log: (2548, 6)\n",
      "2023-03-08 15:23:01 - Training dqn_agent_1_3_4_02 session 4\n"
     ]
    },
    {
     "name": "stderr",
     "output_type": "stream",
     "text": [
      "INFO:unityagents:\n",
      "'Academy' started successfully!\n",
      "Unity Academy name: Academy\n",
      "        Number of Brains: 1\n",
      "        Number of External Brains : 1\n",
      "        Lesson number : 0\n",
      "        Reset Parameters :\n",
      "\t\t\n",
      "Unity brain name: BananaBrain\n",
      "        Number of Visual Observations (per agent): 0\n",
      "        Vector Observation space type: continuous\n",
      "        Vector Observation space size (per agent): 37\n",
      "        Number of stacked Vector Observation: 1\n",
      "        Vector Action space type: discrete\n",
      "        Vector Action space size (per agent): 4\n",
      "        Vector Action descriptions: , , , \n"
     ]
    },
    {
     "name": "stdout",
     "output_type": "stream",
     "text": [
      "2023-03-08 15:26:18 - Episode: 100\tAverage Score: 0.70\teps: 0.6088\tbeta: 0.059400\n",
      "2023-03-08 15:29:51 - Episode: 200\tAverage Score: 3.55\teps: 0.3688\tbeta: 0.119400\n",
      "2023-03-08 15:33:47 - Episode: 300\tAverage Score: 6.85\teps: 0.2234\tbeta: 0.179400\n",
      "2023-03-08 15:38:00 - Episode: 400\tAverage Score: 9.00\teps: 0.1353\tbeta: 0.239400\n",
      "2023-03-08 15:42:14 - Episode: 500\tAverage Score: 12.27\teps: 0.0820\tbeta: 0.299400\n",
      "2023-03-08 15:46:27 - Episode: 600\tAverage Score: 12.77\teps: 0.0497\tbeta: 0.359400\n",
      "Episode: 611\tAverage Score: 13.04\teps: 0.0470\tbeta: 0.366000\n",
      "2023-03-08 15:46:55 - Environment solved in:\n",
      "Episode: 611\tAverage Score: 13.04\teps: 0.0470\tbeta: 0.366000\n",
      "Logging 611 training data rows\n",
      "Log: (3159, 6)\n"
     ]
    }
   ],
   "source": [
    "training_log, best_agent = run(agents, n_sessions, target_score)"
   ]
  },
  {
   "cell_type": "markdown",
   "id": "b3bebdb5-0ca9-474e-9aff-d6efaa135051",
   "metadata": {},
   "source": [
    "Visualize the learning data"
   ]
  },
  {
   "cell_type": "code",
   "execution_count": 15,
   "id": "80defc67-a1c7-4162-a921-5dcaf339915b",
   "metadata": {},
   "outputs": [],
   "source": [
    "colors = {\n",
    "  #'dqn_agent_1_2': 'SaddleBrown', \n",
    "  'dqn_agent_1_2_3': 'DarkOrange', \n",
    "  'dqn_agent_1_3_4_005': 'CadetBlue', \n",
    "  'dqn_agent_1_3_4_01': 'SaddleBrown', \n",
    "  # 'dqn_agent_1_3_4_02': 'SaddleBrown', \n",
    "  'other': 'lightGray'}"
   ]
  },
  {
   "cell_type": "code",
   "execution_count": 24,
   "id": "9c34e6dd-b4e9-4e3f-b6fe-d54ce0d6572d",
   "metadata": {},
   "outputs": [
    {
     "data": {
      "image/png": "[encoded data removed]",
      "text/plain": [
       "<Figure size 1080x504 with 1 Axes>"
      ]
     },
     "metadata": {
      "needs_background": "light"
     },
     "output_type": "display_data"
    }
   ],
   "source": [
    "# plot the training avg n_episodes\n",
    "\n",
    "fig = plt.figure(figsize=(15, 7))\n",
    "ax = fig.add_subplot(111)\n",
    "\n",
    "avg_episodes = list()\n",
    "\n",
    "for agent in training_log.keys():\n",
    "  data = training_log[agent]\n",
    "  avg_episodes.append(data.groupby(['agent', 'session'])['episode']\n",
    "                      .count()\n",
    "                      .groupby(level = 0)\n",
    "                      .mean()\n",
    "                      .rename('avg_episodes')\n",
    "                      .reset_index()\n",
    "                      .assign(color = (colors[agent] if agent in colors.keys() else colors['other']))\n",
    "                     )\n",
    "data = pd.concat(avg_episodes, axis = 0, ignore_index=True)\n",
    "bars = ax.bar(x = data['agent'], \n",
    "              height = data['avg_episodes'], \n",
    "              color = data['color'], width = 0.6, edgecolor = 'LightGray')\n",
    "\n",
    "for i in range(data.shape[0]):\n",
    "  y = data.iloc[i]['avg_episodes']\n",
    "  ax.text(x = i - 0.1, y = y + 10, s = '{}'.format(y), color = 'gray', \n",
    "          fontdict = {'fontsize': 12}\n",
    "         )\n",
    "\n",
    "# ax.bar_label(bars, data['avg_episodes'], color = 'DarkOrange') \n",
    "    \n",
    "ax.set_ylabel('Average number of episodes')\n",
    "ax.set_xlabel('Agents')\n",
    "\n",
    "title = \"Agent Learning Average Number of Episodes to Tartge Score\\n(n_episodes / n_sessions)\\n\"\n",
    "ax.set_title(title)\n",
    "plt.show()"
   ]
  },
  {
   "cell_type": "code",
   "execution_count": 25,
   "id": "3e84d5af-736d-4f7c-8651-1d4b0423aff9",
   "metadata": {},
   "outputs": [
    {
     "data": {
      "image/png": "[encoded data removed]",
      "text/plain": [
       "<Figure size 1080x720 with 1 Axes>"
      ]
     },
     "metadata": {
      "needs_background": "light"
     },
     "output_type": "display_data"
    }
   ],
   "source": [
    "# plot agents best session learning rate\n",
    "\n",
    "fig = plt.figure(figsize=(15, 10))\n",
    "ax = fig.add_subplot(111)\n",
    "\n",
    "for agent in training_log.keys():\n",
    "  agents = list(training_log.keys())\n",
    "    \n",
    "  data = training_log[agent]\n",
    "  data = data[data['session'] == best_agent[agent]['session']]\n",
    "\n",
    "  mean_data = data['score'].rolling(window = 100).mean()[100:]\n",
    "  \n",
    "  learnig_rte = ((mean_data - mean_data.shift(1)) / mean_data).rolling(window = 50).mean()\n",
    "\n",
    "  color = colors['other']\n",
    "  if agent in colors.keys():\n",
    "    color = colors[agent]\n",
    "    ax.text(x = data['episode'][-1:], y = learnig_rte.iloc[-1:] + 0.0005, \n",
    "          s = best_agent[agent]['score'], color = color)\n",
    "    \n",
    "  ax.plot(data['episode'][100:], learnig_rte, color = color, label = agent)\n",
    "  ax.scatter(x = data['episode'][-1:], y = learnig_rte.iloc[-1:], color = color)\n",
    "  \n",
    "ax.set_ylabel('learning rate')\n",
    "ax.set_xlabel('Episode')\n",
    "ax.legend()\n",
    "\n",
    "title = \"Agent Learning Rate Decay\\nOf each Agent's best learning session\\n\"\n",
    "ax.set_title(title)\n",
    "\n",
    "plt.show()"
   ]
  },
  {
   "cell_type": "code",
   "execution_count": null,
   "id": "964039e4-c0b9-46df-91eb-2495bf1afccf",
   "metadata": {},
   "outputs": [],
   "source": []
  },
  {
   "cell_type": "markdown",
   "id": "d0eae5a9-a590-47cd-9351-09c3b24e0e7b",
   "metadata": {},
   "source": [
    "### Persist Learning Data\n",
    "\n",
    "I save the output to disk, to use it the in analysis notebook"
   ]
  },
  {
   "cell_type": "markdown",
   "id": "6ff59403-df60-4687-b9fc-08170fc3ff45",
   "metadata": {},
   "source": [
    "#### Learning Data"
   ]
  },
  {
   "cell_type": "code",
   "execution_count": 28,
   "id": "c82ea1a8-f4a7-460e-8f29-e827903f2128",
   "metadata": {},
   "outputs": [],
   "source": [
    "dir_path = os.path.abspath(\"learning_data\")"
   ]
  },
  {
   "cell_type": "code",
   "execution_count": 31,
   "id": "8def254e-2bb6-45b4-9d51-d8b9027f4e06",
   "metadata": {},
   "outputs": [],
   "source": [
    "for agent in list(training_log.keys()):\n",
    "  file_name = \"{}_learning_data.csv\".format(agent)\n",
    "  file_path = os.path.join(dir_path, file_name)\n",
    "  \n",
    "  training_log[agent].to_csv(file_path, index = False)"
   ]
  },
  {
   "cell_type": "markdown",
   "id": "e4282465-3e79-4d9c-805d-195082e12d88",
   "metadata": {},
   "source": [
    "#### Best Agent Session"
   ]
  },
  {
   "cell_type": "code",
   "execution_count": 37,
   "id": "59491893-ff67-4c64-b8cf-8464f465b05f",
   "metadata": {},
   "outputs": [
    {
     "data": {
      "text/html": [
       "<div>\n",
       "<style scoped>\n",
       "    .dataframe tbody tr th:only-of-type {\n",
       "        vertical-align: middle;\n",
       "    }\n",
       "\n",
       "    .dataframe tbody tr th {\n",
       "        vertical-align: top;\n",
       "    }\n",
       "\n",
       "    .dataframe thead th {\n",
       "        text-align: right;\n",
       "    }\n",
       "</style>\n",
       "<table border=\"1\" class=\"dataframe\">\n",
       "  <thead>\n",
       "    <tr style=\"text-align: right;\">\n",
       "      <th></th>\n",
       "      <th>index</th>\n",
       "      <th>score</th>\n",
       "      <th>episode</th>\n",
       "      <th>session</th>\n",
       "    </tr>\n",
       "  </thead>\n",
       "  <tbody>\n",
       "    <tr>\n",
       "      <th>0</th>\n",
       "      <td>dqn_agent_1_2</td>\n",
       "      <td>23.0</td>\n",
       "      <td>503</td>\n",
       "      <td>3</td>\n",
       "    </tr>\n",
       "    <tr>\n",
       "      <th>1</th>\n",
       "      <td>dqn_agent_1_2_3</td>\n",
       "      <td>21.0</td>\n",
       "      <td>505</td>\n",
       "      <td>0</td>\n",
       "    </tr>\n",
       "    <tr>\n",
       "      <th>2</th>\n",
       "      <td>dqn_agent_1_3_4_005</td>\n",
       "      <td>23.0</td>\n",
       "      <td>499</td>\n",
       "      <td>4</td>\n",
       "    </tr>\n",
       "    <tr>\n",
       "      <th>3</th>\n",
       "      <td>dqn_agent_1_3_4_01</td>\n",
       "      <td>23.0</td>\n",
       "      <td>423</td>\n",
       "      <td>2</td>\n",
       "    </tr>\n",
       "    <tr>\n",
       "      <th>4</th>\n",
       "      <td>dqn_agent_1_3_4_02</td>\n",
       "      <td>23.0</td>\n",
       "      <td>582</td>\n",
       "      <td>1</td>\n",
       "    </tr>\n",
       "  </tbody>\n",
       "</table>\n",
       "</div>"
      ],
      "text/plain": [
       "                 index  score  episode  session\n",
       "0        dqn_agent_1_2   23.0      503        3\n",
       "1      dqn_agent_1_2_3   21.0      505        0\n",
       "2  dqn_agent_1_3_4_005   23.0      499        4\n",
       "3   dqn_agent_1_3_4_01   23.0      423        2\n",
       "4   dqn_agent_1_3_4_02   23.0      582        1"
      ]
     },
     "execution_count": 37,
     "metadata": {},
     "output_type": "execute_result"
    }
   ],
   "source": [
    "ba = pd.DataFrame(data = [best_agent[agent] for agent in best_agent.keys()], \n",
    "                  index = best_agent.keys()\n",
    "                 ).reset_index()\n",
    "ba"
   ]
  },
  {
   "cell_type": "code",
   "execution_count": 35,
   "id": "c5576aca-dcc2-497d-a4a8-3fe29279f22f",
   "metadata": {},
   "outputs": [],
   "source": [
    "file_name = \"best_agent_learning_session_data.csv\"\n",
    "file_path = os.path.join(dir_path, file_name)"
   ]
  },
  {
   "cell_type": "code",
   "execution_count": 38,
   "id": "92553e5d-fa7b-4866-a48b-7f7f6200e90c",
   "metadata": {},
   "outputs": [],
   "source": [
    "ba.to_csv(file_path, index = False)"
   ]
  },
  {
   "cell_type": "code",
   "execution_count": null,
   "id": "c5816ea3-1b60-481f-a992-6ba1960807f0",
   "metadata": {},
   "outputs": [],
   "source": []
  }
 ],
 "metadata": {
  "kernelspec": {
   "display_name": "Python 3",
   "language": "python",
   "name": "python3"
  },
  "language_info": {
   "codemirror_mode": {
    "name": "ipython",
    "version": 3
   },
   "file_extension": ".py",
   "mimetype": "text/x-python",
   "name": "python",
   "nbconvert_exporter": "python",
   "pygments_lexer": "ipython3",
   "version": "3.6.15"
  }
 },
 "nbformat": 4,
 "nbformat_minor": 5
}
